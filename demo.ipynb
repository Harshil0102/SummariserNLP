{
 "cells": [
  {
   "cell_type": "code",
   "execution_count": 2,
   "metadata": {},
   "outputs": [
    {
     "name": "stdout",
     "output_type": "stream",
     "text": [
      "Penny Oleksiak is Canada's most decorated Olympian with seven career medals . The 29-year-old sprinter is tied with swimmer Penny De Grasse . \"I knew we were going to get together, watch the film, see what we needed to improve,\" Brown says .\n"
     ]
    }
   ],
   "source": [
    "from transformers import pipeline\n",
    "\n",
    "# Load the summarization pipeline with the Fine-Tuned T5 Small model\n",
    "summarizer = pipeline(\"summarization\", model=\"Falconsai/text_summarization\")\n",
    "\n",
    "# Example input text\n",
    "ARTICLE = \"\"\"\n",
    "The 29-year-old sprinter is now tied with swimmer Penny Oleksiak as Canada's most decorated Olympian with seven career medals (two gold, two silver, three bronze).\n",
    "\n",
    "\"We all talked about this moment. It's a complete set, we got the bronze in Rio, Tokyo we got the silver. Now it's like icing on the cake to get the gold medal with these guys,\" De Grasse said. \"It's an incredible feeling and a great way to end the Games, so I'm pretty happy.\"\n",
    "\n",
    "CBC Sports' Devin Heroux reported one team launched a protest against the Canadian team, noting Rodney stepped on the line during his run.\n",
    "\n",
    "The protest was declined, as a rule change allows for a runner to step on the line, but not with consecutive steps.\n",
    "\n",
    "'These guys can make magic together'\n",
    "\"I knew we were going to get together, watch the film, see what we needed to improve,\" Brown said. \"I never stopped believing, you know. These guys can do incredible things when we get together and put our minds to it. It showed today.\n",
    "\n",
    "\"Never count ourselves out, no matter what lane. It can be in [lane] 2, [lane] 9, we can be in the stands – it doesn't matter. Give us a lane, give us an opportunity, and these guys can make magic together.\"\n",
    "\n",
    "It turned out lane 9 was just enough.\n",
    "\n",
    "\"Lane 9 was probably the perfect lane,\" Rodney said. We're all kind of tall, so we didn't have to worry about anybody in Lane 9. For us, we just focus on ourselves and just get to run.\"\n",
    "\"\"\"\n",
    "\n",
    "# Generate a summary\n",
    "summary = summarizer(ARTICLE, max_length=100, min_length=30, do_sample=True)\n",
    "print(summary[0][\"summary_text\"])\n",
    "\n"
   ]
  }
 ],
 "metadata": {
  "kernelspec": {
   "display_name": "Python 3",
   "language": "python",
   "name": "python3"
  },
  "language_info": {
   "codemirror_mode": {
    "name": "ipython",
    "version": 3
   },
   "file_extension": ".py",
   "mimetype": "text/x-python",
   "name": "python",
   "nbconvert_exporter": "python",
   "pygments_lexer": "ipython3",
   "version": "3.12.4"
  }
 },
 "nbformat": 4,
 "nbformat_minor": 2
}
